{
 "cells": [
  {
   "cell_type": "code",
   "execution_count": 1,
   "id": "3ba27944",
   "metadata": {
    "scrolled": false
   },
   "outputs": [
    {
     "name": "stdout",
     "output_type": "stream",
     "text": [
      "Requirement already satisfied: opencv-contrib-python in c:\\users\\82108\\anaconda3\\lib\\site-packages (4.5.5.64)\n",
      "Requirement already satisfied: numpy>=1.14.5 in c:\\users\\82108\\anaconda3\\lib\\site-packages (from opencv-contrib-python) (1.20.1)\n",
      "Note: you may need to restart the kernel to use updated packages.\n"
     ]
    }
   ],
   "source": [
    "pip install opencv-contrib-python"
   ]
  },
  {
   "cell_type": "code",
   "execution_count": 1,
   "id": "39346b77",
   "metadata": {},
   "outputs": [],
   "source": [
    "import sys\n",
    "import numpy as np\n",
    "import cv2"
   ]
  },
  {
   "cell_type": "code",
   "execution_count": 2,
   "id": "e3634efb",
   "metadata": {},
   "outputs": [],
   "source": [
    "src = cv2.imread('darpaRobot..bmp',cv2.IMREAD_GRAYSCALE)"
   ]
  },
  {
   "cell_type": "code",
   "execution_count": 3,
   "id": "146f8dde",
   "metadata": {},
   "outputs": [],
   "source": [
    "#산술연산\n",
    "if src is None:\n",
    "    print('Image load failed!')\n",
    "    sys.exit()"
   ]
  },
  {
   "cell_type": "code",
   "execution_count": 4,
   "id": "eead0932",
   "metadata": {},
   "outputs": [],
   "source": [
    "dst = cv2.subtract(src,100) \n",
    "#덧셈: add/ 뺄셈 : subtract/ 곱셈: multiply/ 나눗셈: divide"
   ]
  },
  {
   "cell_type": "code",
   "execution_count": 5,
   "id": "9e9b95dd",
   "metadata": {},
   "outputs": [
    {
     "data": {
      "text/plain": [
       "-1"
      ]
     },
     "execution_count": 5,
     "metadata": {},
     "output_type": "execute_result"
    }
   ],
   "source": [
    "cv2.imshow('src',src)\n",
    "cv2.imshow('dst',dst)\n",
    "cv2.waitKey()"
   ]
  },
  {
   "cell_type": "code",
   "execution_count": 6,
   "id": "7500f8eb",
   "metadata": {},
   "outputs": [],
   "source": [
    "src = cv2.imread('darpaRobot..bmp')"
   ]
  },
  {
   "cell_type": "code",
   "execution_count": 7,
   "id": "6dcb37de",
   "metadata": {},
   "outputs": [],
   "source": [
    "if src is None:\n",
    "    print('Image load failed!')\n",
    "    sys.exit()"
   ]
  },
  {
   "cell_type": "code",
   "execution_count": 8,
   "id": "879f470d",
   "metadata": {},
   "outputs": [],
   "source": [
    "dst=cv2.subtract(src,(100,100,100,0)) \n",
    "#덧셈: add/ 뺄셈 : subtract/ 곱셈: multiply/ 나눗셈: divide"
   ]
  },
  {
   "cell_type": "code",
   "execution_count": 9,
   "id": "1a347a7c",
   "metadata": {},
   "outputs": [],
   "source": [
    "cv2.imshow('src',src)\n",
    "cv2.imshow('dst',dst)\n",
    "cv2.waitKey()\n",
    "cv2.destroyAllWindows()"
   ]
  },
  {
   "cell_type": "code",
   "execution_count": null,
   "id": "0f61b64d",
   "metadata": {},
   "outputs": [],
   "source": []
  },
  {
   "cell_type": "code",
   "execution_count": 10,
   "id": "27b5b6a8",
   "metadata": {},
   "outputs": [],
   "source": [
    "#논리연산\n",
    "\n",
    "img1 = cv2.imread('darpaRobot..bmp')\n",
    "img2 = cv2.imread('darpaRobot..bmp')\n",
    "\n",
    "bit_and = cv2.bitwise_and(img1,img2)\n",
    "bit_or = cv2.bitwise_or(img2,img1)\n",
    "bit_not = cv2.bitwise_not(img2) # 색반전가능\n",
    "bit_xor = cv2.bitwise_xor(img1,img2)\n",
    "\n",
    "cv2.imshow('bit_and',bit_and)\n",
    "cv2.imshow('bit_or',bit_or)\n",
    "cv2.imshow('bit_not',bit_not)\n",
    "cv2.imshow('bit_xor',bit_xor)\n",
    "cv2.waitKey(0)\n",
    "cv2.destroyAllWindows()"
   ]
  },
  {
   "cell_type": "code",
   "execution_count": 11,
   "id": "4d26083e",
   "metadata": {},
   "outputs": [
    {
     "name": "stdout",
     "output_type": "stream",
     "text": [
      "감마 값 : 0.4\n"
     ]
    },
    {
     "name": "stderr",
     "output_type": "stream",
     "text": [
      "<ipython-input-11-f8175db1c68a>:6: DeprecationWarning: `np.float` is a deprecated alias for the builtin `float`. To silence this warning, use `float` by itself. Doing this will not modify any behavior and is safe. If you specifically wanted the numpy scalar type, use `np.float64` here.\n",
      "Deprecated in NumPy 1.20; for more details and guidance: https://numpy.org/devdocs/release/1.20.0-notes.html#deprecations\n",
      "  out = img.astype(np.float)\n"
     ]
    },
    {
     "data": {
      "text/plain": [
       "-1"
      ]
     },
     "execution_count": 11,
     "metadata": {},
     "output_type": "execute_result"
    }
   ],
   "source": [
    "#감마연산\n",
    "\n",
    "g = float(input(\"감마 값 : \")) \n",
    "img = cv2.imread('darpaRobot..bmp') \n",
    "out = img.copy() \n",
    "out = img.astype(np.float)\n",
    "out = ((out / 255) ** (1 / g)) * 255 \n",
    "out = out.astype(np.uint8) \n",
    "cv2.imshow(\"original\", img) \n",
    "cv2.imshow(\"gamma\", out) \n",
    "cv2.waitKey(0)\n"
   ]
  },
  {
   "cell_type": "code",
   "execution_count": 12,
   "id": "71128213",
   "metadata": {},
   "outputs": [
    {
     "data": {
      "text/plain": [
       "-1"
      ]
     },
     "execution_count": 12,
     "metadata": {},
     "output_type": "execute_result"
    }
   ],
   "source": [
    "#색 반전\n",
    "img = cv2.imread('darpaRobot..bmp')\n",
    "out = img.copy()\n",
    "out = 255 - out\n",
    "cv2.imshow(\"original\", img)\n",
    "cv2.imshow(\"flip\", out)\n",
    "cv2.waitKey(0)"
   ]
  },
  {
   "cell_type": "code",
   "execution_count": 13,
   "id": "062fe290",
   "metadata": {},
   "outputs": [
    {
     "data": {
      "text/plain": [
       "-1"
      ]
     },
     "execution_count": 13,
     "metadata": {},
     "output_type": "execute_result"
    }
   ],
   "source": [
    "#이진화\n",
    "img = cv2.imread('darpaRobot..bmp')\n",
    "gray = cv2.cvtColor(img, cv2.COLOR_BGR2GRAY)\n",
    "ret, dst = cv2.threshold (gray, 127, 255, cv2.THRESH_BINARY) \n",
    "cv2.imshow(\"original\", img) \n",
    "cv2.imshow(\"binary\", dst) \n",
    "cv2.waitKey(0)\n"
   ]
  },
  {
   "cell_type": "code",
   "execution_count": 14,
   "id": "7e0ad3c3",
   "metadata": {},
   "outputs": [
    {
     "name": "stdout",
     "output_type": "stream",
     "text": [
      "최댓값 : 100\n",
      "최솟값 : 120\n"
     ]
    },
    {
     "ename": "IndexError",
     "evalue": "index 324 is out of bounds for axis 0 with size 324",
     "output_type": "error",
     "traceback": [
      "\u001b[1;31m---------------------------------------------------------------------------\u001b[0m",
      "\u001b[1;31mIndexError\u001b[0m                                Traceback (most recent call last)",
      "\u001b[1;32m<ipython-input-14-feed21ec0e58>\u001b[0m in \u001b[0;36m<module>\u001b[1;34m\u001b[0m\n\u001b[0;32m      8\u001b[0m \u001b[1;32mfor\u001b[0m \u001b[0mi\u001b[0m \u001b[1;32min\u001b[0m \u001b[0mrange\u001b[0m\u001b[1;33m(\u001b[0m\u001b[0mwidth\u001b[0m\u001b[1;33m)\u001b[0m\u001b[1;33m:\u001b[0m\u001b[1;33m\u001b[0m\u001b[1;33m\u001b[0m\u001b[0m\n\u001b[0;32m      9\u001b[0m     \u001b[1;32mfor\u001b[0m \u001b[0ma\u001b[0m \u001b[1;32min\u001b[0m \u001b[0mrange\u001b[0m\u001b[1;33m(\u001b[0m\u001b[0mheight\u001b[0m\u001b[1;33m)\u001b[0m\u001b[1;33m:\u001b[0m\u001b[1;33m\u001b[0m\u001b[1;33m\u001b[0m\u001b[0m\n\u001b[1;32m---> 10\u001b[1;33m         \u001b[1;32mif\u001b[0m \u001b[0mlow\u001b[0m \u001b[1;33m<=\u001b[0m \u001b[0mout\u001b[0m\u001b[1;33m[\u001b[0m\u001b[0mi\u001b[0m\u001b[1;33m]\u001b[0m\u001b[1;33m[\u001b[0m\u001b[0ma\u001b[0m\u001b[1;33m]\u001b[0m \u001b[1;33m<=\u001b[0m \u001b[0mhigh\u001b[0m\u001b[1;33m:\u001b[0m\u001b[1;33m\u001b[0m\u001b[1;33m\u001b[0m\u001b[0m\n\u001b[0m\u001b[0;32m     11\u001b[0m             \u001b[0mout\u001b[0m\u001b[1;33m[\u001b[0m\u001b[0mi\u001b[0m\u001b[1;33m]\u001b[0m\u001b[1;33m[\u001b[0m\u001b[0ma\u001b[0m\u001b[1;33m]\u001b[0m \u001b[1;33m=\u001b[0m \u001b[1;36m255\u001b[0m\u001b[1;33m\u001b[0m\u001b[1;33m\u001b[0m\u001b[0m\n\u001b[0;32m     12\u001b[0m \u001b[1;33m\u001b[0m\u001b[0m\n",
      "\u001b[1;31mIndexError\u001b[0m: index 324 is out of bounds for axis 0 with size 324"
     ]
    }
   ],
   "source": [
    "# 범위강조 \n",
    "high = int(input(\"최댓값 : \")) \n",
    "low = int(input(\"최솟값 : \"))\n",
    "img = cv2.imread('darpaRobot..bmp') \n",
    "gray = cv2.cvtColor(img, cv2.COLOR_BGR2GRAY)\n",
    "out = gray.copy() \n",
    "height, width = gray.shape \n",
    "for i in range(width):\n",
    "    for a in range(height):\n",
    "        if low <= out[i][a] <= high:\n",
    "            out[i][a] = 255\n",
    "            \n",
    "cv2.imshow(\"original\", gray)\n",
    "cv2.imshow('emphasis', out)\n",
    "cv2.waitKey(0)"
   ]
  },
  {
   "cell_type": "code",
   "execution_count": null,
   "id": "0796624f",
   "metadata": {},
   "outputs": [],
   "source": []
  }
 ],
 "metadata": {
  "kernelspec": {
   "display_name": "Python 3",
   "language": "python",
   "name": "python3"
  },
  "language_info": {
   "codemirror_mode": {
    "name": "ipython",
    "version": 3
   },
   "file_extension": ".py",
   "mimetype": "text/x-python",
   "name": "python",
   "nbconvert_exporter": "python",
   "pygments_lexer": "ipython3",
   "version": "3.8.8"
  }
 },
 "nbformat": 4,
 "nbformat_minor": 5
}
