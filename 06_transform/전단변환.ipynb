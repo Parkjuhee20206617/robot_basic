{
 "cells": [
  {
   "cell_type": "markdown",
   "id": "d15c24d6",
   "metadata": {},
   "source": [
    "## 전단변환"
   ]
  },
  {
   "cell_type": "code",
   "execution_count": 1,
   "id": "f40f7ad3",
   "metadata": {},
   "outputs": [],
   "source": [
    "import cv2\n",
    "import numpy as np"
   ]
  },
  {
   "cell_type": "code",
   "execution_count": 2,
   "id": "d2451779",
   "metadata": {},
   "outputs": [],
   "source": [
    "src = cv2.imread('Blue_Frog_Buddy.jpg')\n",
    "\n",
    "if src is None:\n",
    "    print('Image load failed!')\n",
    "    sys.exit()\n",
    "\n",
    "aff = np.array([[1, 0.5, 0],\n",
    "          [0, 1, 0]], dtype=np.float32)\n",
    "\n",
    "h, w = src.shape[:2]\n",
    "\n",
    "dst =cv2.warpAffine(src, aff, (w + int(h * 0.5), h))\n",
    "\n",
    "cv2.imshow('src',src)\n",
    "cv2.imshow('dst',dst)\n",
    "cv2.waitKey()\n",
    "cv2.destroyAllWindows()"
   ]
  },
  {
   "cell_type": "markdown",
   "id": "ee3d682f",
   "metadata": {},
   "source": [
    "## 미디언 표현 이용한 블러"
   ]
  },
  {
   "cell_type": "code",
   "execution_count": 3,
   "id": "6f661bd2",
   "metadata": {},
   "outputs": [],
   "source": [
    "src = cv2.imread('Blue_Frog_Buddy.jpg',cv2.IMREAD_GRAYSCALE)\n",
    "\n",
    "if src is None:\n",
    "    print('Image load failed!')\n",
    "    sys.exit()\n",
    "    \n",
    "dst = cv2.medianBlur(src,3) \n",
    "\n",
    "cv2.imshow('src',src)\n",
    "cv2.imshow('dst',dst)\n",
    "cv2.waitKey()\n",
    "cv2.destroyAllWindows()"
   ]
  },
  {
   "cell_type": "markdown",
   "id": "124b9179",
   "metadata": {},
   "source": [
    "## 미디언 표현 이용한 다운샘플링"
   ]
  },
  {
   "cell_type": "code",
   "execution_count": 4,
   "id": "10437b36",
   "metadata": {},
   "outputs": [
    {
     "name": "stdout",
     "output_type": "stream",
     "text": [
      "size of image before pyDrown (526, 498, 3)\n",
      "size of image after pyDrown (263, 249, 3)\n"
     ]
    }
   ],
   "source": [
    "img = cv2.imread('Blue_Frog_Buddy.jpg')\n",
    "print(\"size of image before pyDrown\",img.shape)\n",
    "\n",
    "img = cv2.pyrDown(img)\n",
    "print(\"size of image after pyDrown\",img.shape)\n",
    "cv2.imshow('DownSample',img)"
   ]
  },
  {
   "cell_type": "markdown",
   "id": "aa32f1a4",
   "metadata": {},
   "source": [
    "## 평균 표현 이용한 다운샘플링"
   ]
  },
  {
   "cell_type": "code",
   "execution_count": 3,
   "id": "30841383",
   "metadata": {},
   "outputs": [
    {
     "ename": "error",
     "evalue": "OpenCV(4.5.5) D:\\opencv-sources\\opencv-4.5.5\\modules\\highgui\\src\\window_w32.cpp:1261: error: (-27:Null pointer) NULL window: 'src' in function 'cvDestroyWindow'\n",
     "output_type": "error",
     "traceback": [
      "\u001b[1;31m---------------------------------------------------------------------------\u001b[0m",
      "\u001b[1;31merror\u001b[0m                                     Traceback (most recent call last)",
      "\u001b[1;32m<ipython-input-3-904f60d3c142>\u001b[0m in \u001b[0;36m<module>\u001b[1;34m\u001b[0m\n\u001b[0;32m     18\u001b[0m \u001b[0mcv2\u001b[0m\u001b[1;33m.\u001b[0m\u001b[0mimshow\u001b[0m\u001b[1;33m(\u001b[0m\u001b[1;34m'src'\u001b[0m\u001b[1;33m,\u001b[0m\u001b[0mcpy\u001b[0m\u001b[1;33m)\u001b[0m\u001b[1;33m\u001b[0m\u001b[1;33m\u001b[0m\u001b[0m\n\u001b[0;32m     19\u001b[0m \u001b[0mcv2\u001b[0m\u001b[1;33m.\u001b[0m\u001b[0mwaitKey\u001b[0m\u001b[1;33m(\u001b[0m\u001b[1;33m)\u001b[0m\u001b[1;33m\u001b[0m\u001b[1;33m\u001b[0m\u001b[0m\n\u001b[1;32m---> 20\u001b[1;33m \u001b[0mcv2\u001b[0m\u001b[1;33m.\u001b[0m\u001b[0mdestroyWindow\u001b[0m\u001b[1;33m(\u001b[0m\u001b[1;34m'src'\u001b[0m\u001b[1;33m)\u001b[0m\u001b[1;33m\u001b[0m\u001b[1;33m\u001b[0m\u001b[0m\n\u001b[0m\u001b[0;32m     21\u001b[0m \u001b[0mcv2\u001b[0m\u001b[1;33m.\u001b[0m\u001b[0mdestroyAllWindows\u001b[0m\u001b[1;33m(\u001b[0m\u001b[1;33m)\u001b[0m\u001b[1;33m\u001b[0m\u001b[1;33m\u001b[0m\u001b[0m\n",
      "\u001b[1;31merror\u001b[0m: OpenCV(4.5.5) D:\\opencv-sources\\opencv-4.5.5\\modules\\highgui\\src\\window_w32.cpp:1261: error: (-27:Null pointer) NULL window: 'src' in function 'cvDestroyWindow'\n"
     ]
    }
   ],
   "source": [
    "src = cv2.imread('Blue_Frog_Buddy.jpg')\n",
    "if src is None:\n",
    "    print('Image load failed!')\n",
    "    sys.exit()\n",
    "\n",
    "rc = (250,120,200,200)\n",
    "    \n",
    "cpy = src.copy()\n",
    "cv2.rectangle(cpy,rc,(0,0,255),2)\n",
    "cv2.imshow('src',cpy)\n",
    "cv2.waitKey()\n",
    "\n",
    "for i in range(1,4):\n",
    "    src = cv2.pyrDown(src)\n",
    "\n",
    "cpy = src.copy()\n",
    "cv2.rectangle(cpy,rc,(0,0,255),2,shift = i)\n",
    "cv2.imshow('src',cpy)\n",
    "cv2.waitKey()\n",
    "cv2.destroyWindow('src')\n",
    "cv2.destroyAllWindows()"
   ]
  },
  {
   "cell_type": "markdown",
   "id": "a6fdb6bf",
   "metadata": {},
   "source": [
    "## 상하좌우 대칭변환"
   ]
  },
  {
   "cell_type": "code",
   "execution_count": 6,
   "id": "0b2633a0",
   "metadata": {},
   "outputs": [],
   "source": [
    "import sys\n",
    "import numpy as np\n",
    "import cv2\n",
    "\n",
    "src = cv2.imread('Blue_Frog_Buddy.jpg')\n",
    "\n",
    "if src is None:\n",
    "    print('Image load failed!')\n",
    "    sys.exit()\n",
    "\n",
    "dst = cv2.flip(src, -1) # 상하 좌우 대칭\n",
    "dst1 = cv2.flip(src, 1) # 좌우 대칭\n",
    "\n",
    "cv2.imshow('src', src)\n",
    "cv2.imshow('dst', dst)\n",
    "cv2.imshow('dst1', dst1)\n",
    "\n",
    "cv2.waitKey()\n",
    "cv2.destroyAllWindows()"
   ]
  },
  {
   "cell_type": "markdown",
   "id": "ad6316cc",
   "metadata": {},
   "source": [
    "## 이동변환"
   ]
  },
  {
   "cell_type": "code",
   "execution_count": 7,
   "id": "06da30bf",
   "metadata": {},
   "outputs": [],
   "source": [
    "src = cv2.imread('Blue_Frog_Buddy.jpg')\n",
    "\n",
    "'''\n",
    "x' ← x + 200\n",
    "y' ← y + 100\n",
    "\n",
    "[1, 0, 200\n",
    " 0, 1, 100]\n",
    "'''\n",
    "aff = np.array([[1, 0, 200], [0, 1, 100]], dtype=np.float32)\n",
    "dst = cv2.warpAffine(src, aff, (0, 0))\n",
    "cv2.imshow('src',src)\n",
    "cv2.imshow('dst',dst)\n",
    "cv2.waitKey()\n",
    "cv2.destroyAllWindows()"
   ]
  },
  {
   "cell_type": "markdown",
   "id": "c074a016",
   "metadata": {},
   "source": [
    "## 회전 변환"
   ]
  },
  {
   "cell_type": "code",
   "execution_count": 8,
   "id": "30a0711c",
   "metadata": {},
   "outputs": [],
   "source": [
    "img = cv2.imread('Blue_Frog_Buddy.jpg')\n",
    "h, w, c = img.shape\n",
    "\n",
    "# 이미지의 중심점을 기준으로 45도 회전 하면서 0.5배 Scale\n",
    "M= cv2.getRotationMatrix2D((w/2, h/2), 45, 0.5)\n",
    "\n",
    "dst = cv2.warpAffine(img, M, (w, h))\n",
    "\n",
    "cv2.imshow('Original', img)\n",
    "cv2.imshow('Rotation', dst)\n",
    "\n",
    "cv2.waitKey(0)\n",
    "cv2.destroyAllWindows()"
   ]
  },
  {
   "cell_type": "markdown",
   "id": "1c5d2cb4",
   "metadata": {},
   "source": [
    "## 크기변환(확대,축소)"
   ]
  },
  {
   "cell_type": "code",
   "execution_count": 9,
   "id": "72c32f47",
   "metadata": {},
   "outputs": [],
   "source": [
    "src = cv2.imread('Blue_Frog_Buddy.jpg')\n",
    "if src is None:\n",
    "    print('Image load failed!')\n",
    "    sys.exit()\n",
    "\n",
    "dst1 = cv2.resize(src, (0, 0), fx=4, fy=4, interpolation=cv2.INTER_NEAREST) # 스케일 팩터 이용\n",
    "dst2 = cv2.resize(src, (1920, 1280))  # cv2.INTER_LINEAR, 픽셀 크기 지정\n",
    "dst3 = cv2.resize(src, (1920, 1280), interpolation=cv2.INTER_CUBIC) # 픽셀 크기 지정\n",
    "dst4 = cv2.resize(src, (1920, 1280), interpolation=cv2.INTER_LANCZOS4) # 픽셀 크기 지정\n",
    "\n",
    "cv2.imshow('src', src)\n",
    "cv2.imshow('dst1', dst1[500:900, 400:800]) # 영상 크기가 너무 커서 일정 부분만 출력\n",
    "cv2.imshow('dst2', dst2[500:900, 400:800])\n",
    "cv2.imshow('dst3', dst3[500:900, 400:800])\n",
    "cv2.imshow('dst4', dst4[500:900, 400:800])\n",
    "cv2.waitKey()\n",
    "cv2.destroyAllWindows()"
   ]
  },
  {
   "cell_type": "code",
   "execution_count": 10,
   "id": "51aa49d4",
   "metadata": {},
   "outputs": [],
   "source": [
    "img = cv2.imread('Blue_Frog_Buddy.jpg')\n",
    "h, w, c = img.shape\n",
    "\n",
    "#cv2.INTER_AREA: 축소에 적합한 보간법\n",
    "shrink = cv2.resize(img, None, fx=0.5, fy=0.5, interpolation=cv2.INTER_AREA)\n",
    "\n",
    "#cv2.INTER_CUBIC: 3차 보간법. 고화질\n",
    "zoom1 = cv2.resize(img, (w*2, h*2), interpolation=cv2.INTER_CUBIC)\n",
    "\n",
    "# 배수 Size지정\n",
    "zoom2 = cv2.resize(img, None, fx=2, fy=2, interpolation=cv2.INTER_CUBIC)\n",
    "\n",
    "cv2.imshow('Origianl', img)\n",
    "cv2.imshow('Shrink', shrink)\n",
    "cv2.imshow('Zoom1', zoom1)\n",
    "cv2.imshow('Zoom2', zoom2)\n",
    "\n",
    "cv2.waitKey(0)\n",
    "cv2.destroyAllWindows()"
   ]
  },
  {
   "cell_type": "code",
   "execution_count": null,
   "id": "13de7fba",
   "metadata": {},
   "outputs": [],
   "source": []
  }
 ],
 "metadata": {
  "kernelspec": {
   "display_name": "Python 3",
   "language": "python",
   "name": "python3"
  },
  "language_info": {
   "codemirror_mode": {
    "name": "ipython",
    "version": 3
   },
   "file_extension": ".py",
   "mimetype": "text/x-python",
   "name": "python",
   "nbconvert_exporter": "python",
   "pygments_lexer": "ipython3",
   "version": "3.8.8"
  }
 },
 "nbformat": 4,
 "nbformat_minor": 5
}
