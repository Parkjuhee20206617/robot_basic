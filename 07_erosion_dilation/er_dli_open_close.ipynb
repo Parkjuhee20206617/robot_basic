{
 "cells": [
  {
   "cell_type": "markdown",
   "id": "f9f16e17",
   "metadata": {},
   "source": [
    "## 침식(erosion), 팽창(dilation)"
   ]
  },
  {
   "cell_type": "code",
   "execution_count": 7,
   "id": "66862f86",
   "metadata": {},
   "outputs": [],
   "source": [
    "import cv2\n",
    "import numpy as np\n",
    "import matplotlib.pyplot as plt"
   ]
  },
  {
   "cell_type": "code",
   "execution_count": 4,
   "id": "5fe1a7b2",
   "metadata": {},
   "outputs": [
    {
     "data": {
      "text/plain": [
       "-1"
      ]
     },
     "execution_count": 4,
     "metadata": {},
     "output_type": "execute_result"
    }
   ],
   "source": [
    "img = cv2.imread('Blue_Frog_Buddy.JPG')\n",
    "gray = cv2.cvtColor(img, cv2.COLOR_BGR2GRAY)\n",
    "height, width = gray.shape\n",
    "\n",
    "out = np.zeros((height + 2, width + 2), dtype=np.uint8)\n",
    "out[1:1 + height, 1:1+width] = gray.copy()\n",
    "erode = np.zeros_like(gray)\n",
    "dilate = np.zeros_like(gray)\n",
    "\n",
    "for i in range(height):\n",
    "    for j in range(width):\n",
    "        temp = out[i:i+3, j:j+3]\n",
    "        erode[i][j] = np.min(temp)\n",
    "        dilate[i][j] = np.max(temp)\n",
    "\n",
    "array = np.array([[1, 1, 1], [1, 1, 1], [1, 1, 1]])\n",
    "erosion = cv2.erode(gray, array)  #수축\n",
    "dilation = cv2.dilate(gray, array) #팽창\n",
    "\n",
    "cv2.imshow('original', gray)\n",
    "cv2.imshow('erosion', erode)\n",
    "cv2.imshow('dilation', dilate)\n",
    "cv2.imshow('erosion2', erosion)\n",
    "cv2.imshow('dilation2', dilation)\n",
    "cv2.waitKey(0)\n"
   ]
  },
  {
   "cell_type": "code",
   "execution_count": 8,
   "id": "6780f444",
   "metadata": {},
   "outputs": [],
   "source": [
    "src = cv2.imread('Blue_Frog_Buddy.JPG', cv2.IMREAD_GRAYSCALE)\n",
    "\n",
    "if src is None:\n",
    "    print('Image load failed!')\n",
    "    sys.exit()\n",
    "\n",
    "se = cv2.getStructuringElement(cv2.MORPH_RECT,(5,3))\n",
    "erosion = cv2.erode(src, se)  #수축\n",
    "dilation = cv2.dilate(src, None)\n",
    "\n",
    "cv2.imshow('src', src)\n",
    "cv2.imshow('dst1', erosion)\n",
    "cv2.imshow('dst2', dilation)"
   ]
  },
  {
   "cell_type": "markdown",
   "id": "53fde855",
   "metadata": {},
   "source": [
    "## opening & closing"
   ]
  },
  {
   "cell_type": "code",
   "execution_count": 6,
   "id": "8b6ea4e9",
   "metadata": {},
   "outputs": [
    {
     "data": {
      "text/plain": [
       "-1"
      ]
     },
     "execution_count": 6,
     "metadata": {},
     "output_type": "execute_result"
    }
   ],
   "source": [
    "img = cv2.imread('Blue_Frog_Buddy.JPG')\n",
    "gray = cv2.cvtColor(img, cv2.COLOR_BGR2GRAY)\n",
    "height, width = gray.shape\n",
    "\n",
    "out = np.zeros((height + 2, width + 2), dtype=np.uint8)\n",
    "out2 = np.zeros((height + 2, width + 2), dtype=np.uint8)\n",
    "out[1:1 + height, 1:1+width] = gray.copy()\n",
    "opened = np.zeros_like(gray)\n",
    "closed = np.zeros_like(gray)\n",
    "\n",
    "for i in range(height):\n",
    "    for j in range(width):\n",
    "        temp = out[i:i+3, j:j+3]\n",
    "        opened[i][j] = np.min(temp)\n",
    "        closed[i][j] = np.max(temp)\n",
    "\n",
    "out[1:1 + height, 1:1+width] = opened.copy()\n",
    "out2[1:1 + height, 1:1 + width] = closed.copy()\n",
    "\n",
    "for i in range(height):\n",
    "    for j in range(width):\n",
    "        temp = out[i:i+3, j:j+3]\n",
    "        temp2 = out2[i:i + 3, j:j + 3]\n",
    "        opened[i][j] = np.max(temp)\n",
    "        closed[i][j] = np.min(temp2)\n",
    "opened = opened[1:-1, 1:-1]\n",
    "closed = closed[1:-1, 1:-1]\n",
    "\n",
    "array = np.array([[1, 1, 1], [1, 1, 1], [1, 1, 1]])\n",
    "opening = cv2.dilate(cv2.erode(gray, array), array)\n",
    "closing = cv2.erode(cv2.dilate(gray, array), array)\n",
    "\n",
    "cv2.imshow('original', gray)\n",
    "cv2.imshow('opening', opened)\n",
    "cv2.imshow('closing', closed)\n",
    "cv2.imshow('opening2', opening)\n",
    "cv2.imshow('closing2', closing)\n",
    "cv2.waitKey(0)"
   ]
  },
  {
   "cell_type": "code",
   "execution_count": null,
   "id": "727c17a3",
   "metadata": {},
   "outputs": [],
   "source": []
  }
 ],
 "metadata": {
  "kernelspec": {
   "display_name": "Python 3",
   "language": "python",
   "name": "python3"
  },
  "language_info": {
   "codemirror_mode": {
    "name": "ipython",
    "version": 3
   },
   "file_extension": ".py",
   "mimetype": "text/x-python",
   "name": "python",
   "nbconvert_exporter": "python",
   "pygments_lexer": "ipython3",
   "version": "3.8.8"
  }
 },
 "nbformat": 4,
 "nbformat_minor": 5
}
